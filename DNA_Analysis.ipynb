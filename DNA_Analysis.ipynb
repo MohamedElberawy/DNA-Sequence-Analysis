{
 "cells": [
  {
   "cell_type": "code",
   "execution_count": 1,
   "id": "f8be4de3-a42d-433e-a3bf-8de416bda27c",
   "metadata": {
    "scrolled": true
   },
   "outputs": [
    {
     "name": "stdout",
     "output_type": "stream",
     "text": [
      "Collecting nglview\n",
      "  Downloading nglview-3.1.2.tar.gz (5.5 MB)\n",
      "\u001b[2K     \u001b[38;2;114;156;31m━━━━━━━━━━━━━━━━━━━━━━━━━━━━━━━━━━━━━━━━\u001b[0m \u001b[32m5.5/5.5 MB\u001b[0m \u001b[31m153.3 kB/s\u001b[0m eta \u001b[36m0:00:00\u001b[0mm eta \u001b[36m0:00:01\u001b[0m[36m0:00:02\u001b[0m\n",
      "\u001b[?25h  Installing build dependencies ... \u001b[?25ldone\n",
      "\u001b[?25h  Getting requirements to build wheel ... \u001b[?25ldone\n",
      "\u001b[?25h  Preparing metadata (pyproject.toml) ... \u001b[?25ldone\n",
      "\u001b[?25hRequirement already satisfied: ipywidgets>=8 in /home/masterco20/apps/mamba/envs/venv/lib/python3.12/site-packages (from nglview) (8.1.2)\n",
      "Requirement already satisfied: notebook>=7 in /home/masterco20/apps/mamba/envs/venv/lib/python3.12/site-packages (from nglview) (7.1.2)\n",
      "Requirement already satisfied: jupyterlab-widgets in /home/masterco20/apps/mamba/envs/venv/lib/python3.12/site-packages (from nglview) (3.0.10)\n",
      "Collecting numpy (from nglview)\n",
      "  Downloading numpy-1.26.4-cp312-cp312-manylinux_2_17_x86_64.manylinux2014_x86_64.whl.metadata (61 kB)\n",
      "\u001b[2K     \u001b[38;2;114;156;31m━━━━━━━━━━━━━━━━━━━━━━━━━━━━━━━━━━━━━━━\u001b[0m \u001b[32m61.0/61.0 kB\u001b[0m \u001b[31m470.1 kB/s\u001b[0m eta \u001b[36m0:00:00\u001b[0m kB/s\u001b[0m eta \u001b[36m0:00:01\u001b[0m\n",
      "\u001b[?25hRequirement already satisfied: comm>=0.1.3 in /home/masterco20/apps/mamba/envs/venv/lib/python3.12/site-packages (from ipywidgets>=8->nglview) (0.2.2)\n",
      "Requirement already satisfied: ipython>=6.1.0 in /home/masterco20/apps/mamba/envs/venv/lib/python3.12/site-packages (from ipywidgets>=8->nglview) (8.22.2)\n",
      "Requirement already satisfied: traitlets>=4.3.1 in /home/masterco20/apps/mamba/envs/venv/lib/python3.12/site-packages (from ipywidgets>=8->nglview) (5.14.2)\n",
      "Requirement already satisfied: widgetsnbextension~=4.0.10 in /home/masterco20/apps/mamba/envs/venv/lib/python3.12/site-packages (from ipywidgets>=8->nglview) (4.0.10)\n",
      "Requirement already satisfied: jupyter-server<3,>=2.4.0 in /home/masterco20/apps/mamba/envs/venv/lib/python3.12/site-packages (from notebook>=7->nglview) (2.13.0)\n",
      "Requirement already satisfied: jupyterlab-server<3,>=2.22.1 in /home/masterco20/apps/mamba/envs/venv/lib/python3.12/site-packages (from notebook>=7->nglview) (2.26.0)\n",
      "Requirement already satisfied: jupyterlab<4.2,>=4.1.1 in /home/masterco20/apps/mamba/envs/venv/lib/python3.12/site-packages (from notebook>=7->nglview) (4.1.6)\n",
      "Requirement already satisfied: notebook-shim<0.3,>=0.2 in /home/masterco20/apps/mamba/envs/venv/lib/python3.12/site-packages (from notebook>=7->nglview) (0.2.4)\n",
      "Requirement already satisfied: tornado>=6.2.0 in /home/masterco20/apps/mamba/envs/venv/lib/python3.12/site-packages (from notebook>=7->nglview) (6.4)\n",
      "Requirement already satisfied: decorator in /home/masterco20/apps/mamba/envs/venv/lib/python3.12/site-packages (from ipython>=6.1.0->ipywidgets>=8->nglview) (5.1.1)\n",
      "Requirement already satisfied: jedi>=0.16 in /home/masterco20/apps/mamba/envs/venv/lib/python3.12/site-packages (from ipython>=6.1.0->ipywidgets>=8->nglview) (0.19.1)\n",
      "Requirement already satisfied: matplotlib-inline in /home/masterco20/apps/mamba/envs/venv/lib/python3.12/site-packages (from ipython>=6.1.0->ipywidgets>=8->nglview) (0.1.6)\n",
      "Requirement already satisfied: prompt-toolkit<3.1.0,>=3.0.41 in /home/masterco20/apps/mamba/envs/venv/lib/python3.12/site-packages (from ipython>=6.1.0->ipywidgets>=8->nglview) (3.0.42)\n",
      "Requirement already satisfied: pygments>=2.4.0 in /home/masterco20/apps/mamba/envs/venv/lib/python3.12/site-packages (from ipython>=6.1.0->ipywidgets>=8->nglview) (2.17.2)\n",
      "Requirement already satisfied: stack-data in /home/masterco20/apps/mamba/envs/venv/lib/python3.12/site-packages (from ipython>=6.1.0->ipywidgets>=8->nglview) (0.6.2)\n",
      "Requirement already satisfied: pexpect>4.3 in /home/masterco20/apps/mamba/envs/venv/lib/python3.12/site-packages (from ipython>=6.1.0->ipywidgets>=8->nglview) (4.9.0)\n",
      "Requirement already satisfied: anyio>=3.1.0 in /home/masterco20/apps/mamba/envs/venv/lib/python3.12/site-packages (from jupyter-server<3,>=2.4.0->notebook>=7->nglview) (4.3.0)\n",
      "Requirement already satisfied: argon2-cffi in /home/masterco20/apps/mamba/envs/venv/lib/python3.12/site-packages (from jupyter-server<3,>=2.4.0->notebook>=7->nglview) (23.1.0)\n",
      "Requirement already satisfied: jinja2 in /home/masterco20/apps/mamba/envs/venv/lib/python3.12/site-packages (from jupyter-server<3,>=2.4.0->notebook>=7->nglview) (3.1.3)\n",
      "Requirement already satisfied: jupyter-client>=7.4.4 in /home/masterco20/apps/mamba/envs/venv/lib/python3.12/site-packages (from jupyter-server<3,>=2.4.0->notebook>=7->nglview) (8.6.1)\n",
      "Requirement already satisfied: jupyter-core!=5.0.*,>=4.12 in /home/masterco20/apps/mamba/envs/venv/lib/python3.12/site-packages (from jupyter-server<3,>=2.4.0->notebook>=7->nglview) (5.7.2)\n",
      "Requirement already satisfied: jupyter-events>=0.9.0 in /home/masterco20/apps/mamba/envs/venv/lib/python3.12/site-packages (from jupyter-server<3,>=2.4.0->notebook>=7->nglview) (0.10.0)\n",
      "Requirement already satisfied: jupyter-server-terminals in /home/masterco20/apps/mamba/envs/venv/lib/python3.12/site-packages (from jupyter-server<3,>=2.4.0->notebook>=7->nglview) (0.5.3)\n",
      "Requirement already satisfied: nbconvert>=6.4.4 in /home/masterco20/apps/mamba/envs/venv/lib/python3.12/site-packages (from jupyter-server<3,>=2.4.0->notebook>=7->nglview) (7.16.3)\n",
      "Requirement already satisfied: nbformat>=5.3.0 in /home/masterco20/apps/mamba/envs/venv/lib/python3.12/site-packages (from jupyter-server<3,>=2.4.0->notebook>=7->nglview) (5.10.4)\n",
      "Requirement already satisfied: overrides in /home/masterco20/apps/mamba/envs/venv/lib/python3.12/site-packages (from jupyter-server<3,>=2.4.0->notebook>=7->nglview) (7.7.0)\n",
      "Requirement already satisfied: packaging in /home/masterco20/apps/mamba/envs/venv/lib/python3.12/site-packages (from jupyter-server<3,>=2.4.0->notebook>=7->nglview) (24.0)\n",
      "Requirement already satisfied: prometheus-client in /home/masterco20/apps/mamba/envs/venv/lib/python3.12/site-packages (from jupyter-server<3,>=2.4.0->notebook>=7->nglview) (0.20.0)\n",
      "Requirement already satisfied: pyzmq>=24 in /home/masterco20/apps/mamba/envs/venv/lib/python3.12/site-packages (from jupyter-server<3,>=2.4.0->notebook>=7->nglview) (25.1.2)\n",
      "Requirement already satisfied: send2trash>=1.8.2 in /home/masterco20/apps/mamba/envs/venv/lib/python3.12/site-packages (from jupyter-server<3,>=2.4.0->notebook>=7->nglview) (1.8.3)\n",
      "Requirement already satisfied: terminado>=0.8.3 in /home/masterco20/apps/mamba/envs/venv/lib/python3.12/site-packages (from jupyter-server<3,>=2.4.0->notebook>=7->nglview) (0.18.1)\n",
      "Requirement already satisfied: websocket-client in /home/masterco20/apps/mamba/envs/venv/lib/python3.12/site-packages (from jupyter-server<3,>=2.4.0->notebook>=7->nglview) (1.7.0)\n",
      "Requirement already satisfied: async-lru>=1.0.0 in /home/masterco20/apps/mamba/envs/venv/lib/python3.12/site-packages (from jupyterlab<4.2,>=4.1.1->notebook>=7->nglview) (2.0.4)\n",
      "Requirement already satisfied: httpx>=0.25.0 in /home/masterco20/apps/mamba/envs/venv/lib/python3.12/site-packages (from jupyterlab<4.2,>=4.1.1->notebook>=7->nglview) (0.27.0)\n",
      "Requirement already satisfied: ipykernel>=6.5.0 in /home/masterco20/apps/mamba/envs/venv/lib/python3.12/site-packages (from jupyterlab<4.2,>=4.1.1->notebook>=7->nglview) (6.29.3)\n",
      "Requirement already satisfied: jupyter-lsp>=2.0.0 in /home/masterco20/apps/mamba/envs/venv/lib/python3.12/site-packages (from jupyterlab<4.2,>=4.1.1->notebook>=7->nglview) (2.2.5)\n",
      "Requirement already satisfied: babel>=2.10 in /home/masterco20/apps/mamba/envs/venv/lib/python3.12/site-packages (from jupyterlab-server<3,>=2.22.1->notebook>=7->nglview) (2.14.0)\n",
      "Requirement already satisfied: json5>=0.9.0 in /home/masterco20/apps/mamba/envs/venv/lib/python3.12/site-packages (from jupyterlab-server<3,>=2.22.1->notebook>=7->nglview) (0.9.24)\n",
      "Requirement already satisfied: jsonschema>=4.18.0 in /home/masterco20/apps/mamba/envs/venv/lib/python3.12/site-packages (from jupyterlab-server<3,>=2.22.1->notebook>=7->nglview) (4.21.1)\n",
      "Requirement already satisfied: requests>=2.31 in /home/masterco20/apps/mamba/envs/venv/lib/python3.12/site-packages (from jupyterlab-server<3,>=2.22.1->notebook>=7->nglview) (2.31.0)\n",
      "Requirement already satisfied: idna>=2.8 in /home/masterco20/apps/mamba/envs/venv/lib/python3.12/site-packages (from anyio>=3.1.0->jupyter-server<3,>=2.4.0->notebook>=7->nglview) (3.6)\n",
      "Requirement already satisfied: sniffio>=1.1 in /home/masterco20/apps/mamba/envs/venv/lib/python3.12/site-packages (from anyio>=3.1.0->jupyter-server<3,>=2.4.0->notebook>=7->nglview) (1.3.1)\n",
      "Requirement already satisfied: certifi in /home/masterco20/apps/mamba/envs/venv/lib/python3.12/site-packages (from httpx>=0.25.0->jupyterlab<4.2,>=4.1.1->notebook>=7->nglview) (2024.2.2)\n",
      "Requirement already satisfied: httpcore==1.* in /home/masterco20/apps/mamba/envs/venv/lib/python3.12/site-packages (from httpx>=0.25.0->jupyterlab<4.2,>=4.1.1->notebook>=7->nglview) (1.0.5)\n",
      "Requirement already satisfied: h11<0.15,>=0.13 in /home/masterco20/apps/mamba/envs/venv/lib/python3.12/site-packages (from httpcore==1.*->httpx>=0.25.0->jupyterlab<4.2,>=4.1.1->notebook>=7->nglview) (0.14.0)\n",
      "Requirement already satisfied: debugpy>=1.6.5 in /home/masterco20/apps/mamba/envs/venv/lib/python3.12/site-packages (from ipykernel>=6.5.0->jupyterlab<4.2,>=4.1.1->notebook>=7->nglview) (1.8.1)\n",
      "Requirement already satisfied: nest-asyncio in /home/masterco20/apps/mamba/envs/venv/lib/python3.12/site-packages (from ipykernel>=6.5.0->jupyterlab<4.2,>=4.1.1->notebook>=7->nglview) (1.6.0)\n",
      "Requirement already satisfied: psutil in /home/masterco20/apps/mamba/envs/venv/lib/python3.12/site-packages (from ipykernel>=6.5.0->jupyterlab<4.2,>=4.1.1->notebook>=7->nglview) (5.9.8)\n",
      "Requirement already satisfied: parso<0.9.0,>=0.8.3 in /home/masterco20/apps/mamba/envs/venv/lib/python3.12/site-packages (from jedi>=0.16->ipython>=6.1.0->ipywidgets>=8->nglview) (0.8.4)\n",
      "Requirement already satisfied: MarkupSafe>=2.0 in /home/masterco20/apps/mamba/envs/venv/lib/python3.12/site-packages (from jinja2->jupyter-server<3,>=2.4.0->notebook>=7->nglview) (2.1.5)\n",
      "Requirement already satisfied: attrs>=22.2.0 in /home/masterco20/apps/mamba/envs/venv/lib/python3.12/site-packages (from jsonschema>=4.18.0->jupyterlab-server<3,>=2.22.1->notebook>=7->nglview) (23.2.0)\n",
      "Requirement already satisfied: jsonschema-specifications>=2023.03.6 in /home/masterco20/apps/mamba/envs/venv/lib/python3.12/site-packages (from jsonschema>=4.18.0->jupyterlab-server<3,>=2.22.1->notebook>=7->nglview) (2023.12.1)\n",
      "Requirement already satisfied: referencing>=0.28.4 in /home/masterco20/apps/mamba/envs/venv/lib/python3.12/site-packages (from jsonschema>=4.18.0->jupyterlab-server<3,>=2.22.1->notebook>=7->nglview) (0.34.0)\n",
      "Requirement already satisfied: rpds-py>=0.7.1 in /home/masterco20/apps/mamba/envs/venv/lib/python3.12/site-packages (from jsonschema>=4.18.0->jupyterlab-server<3,>=2.22.1->notebook>=7->nglview) (0.18.0)\n",
      "Requirement already satisfied: python-dateutil>=2.8.2 in /home/masterco20/apps/mamba/envs/venv/lib/python3.12/site-packages (from jupyter-client>=7.4.4->jupyter-server<3,>=2.4.0->notebook>=7->nglview) (2.9.0)\n",
      "Requirement already satisfied: platformdirs>=2.5 in /home/masterco20/apps/mamba/envs/venv/lib/python3.12/site-packages (from jupyter-core!=5.0.*,>=4.12->jupyter-server<3,>=2.4.0->notebook>=7->nglview) (4.2.0)\n",
      "Requirement already satisfied: python-json-logger>=2.0.4 in /home/masterco20/apps/mamba/envs/venv/lib/python3.12/site-packages (from jupyter-events>=0.9.0->jupyter-server<3,>=2.4.0->notebook>=7->nglview) (2.0.7)\n",
      "Requirement already satisfied: pyyaml>=5.3 in /home/masterco20/apps/mamba/envs/venv/lib/python3.12/site-packages (from jupyter-events>=0.9.0->jupyter-server<3,>=2.4.0->notebook>=7->nglview) (6.0.1)\n",
      "Requirement already satisfied: rfc3339-validator in /home/masterco20/apps/mamba/envs/venv/lib/python3.12/site-packages (from jupyter-events>=0.9.0->jupyter-server<3,>=2.4.0->notebook>=7->nglview) (0.1.4)\n",
      "Requirement already satisfied: rfc3986-validator>=0.1.1 in /home/masterco20/apps/mamba/envs/venv/lib/python3.12/site-packages (from jupyter-events>=0.9.0->jupyter-server<3,>=2.4.0->notebook>=7->nglview) (0.1.1)\n",
      "Requirement already satisfied: beautifulsoup4 in /home/masterco20/apps/mamba/envs/venv/lib/python3.12/site-packages (from nbconvert>=6.4.4->jupyter-server<3,>=2.4.0->notebook>=7->nglview) (4.12.3)\n",
      "Requirement already satisfied: bleach!=5.0.0 in /home/masterco20/apps/mamba/envs/venv/lib/python3.12/site-packages (from nbconvert>=6.4.4->jupyter-server<3,>=2.4.0->notebook>=7->nglview) (6.1.0)\n",
      "Requirement already satisfied: defusedxml in /home/masterco20/apps/mamba/envs/venv/lib/python3.12/site-packages (from nbconvert>=6.4.4->jupyter-server<3,>=2.4.0->notebook>=7->nglview) (0.7.1)\n",
      "Requirement already satisfied: jupyterlab-pygments in /home/masterco20/apps/mamba/envs/venv/lib/python3.12/site-packages (from nbconvert>=6.4.4->jupyter-server<3,>=2.4.0->notebook>=7->nglview) (0.3.0)\n",
      "Requirement already satisfied: mistune<4,>=2.0.3 in /home/masterco20/apps/mamba/envs/venv/lib/python3.12/site-packages (from nbconvert>=6.4.4->jupyter-server<3,>=2.4.0->notebook>=7->nglview) (3.0.2)\n",
      "Requirement already satisfied: nbclient>=0.5.0 in /home/masterco20/apps/mamba/envs/venv/lib/python3.12/site-packages (from nbconvert>=6.4.4->jupyter-server<3,>=2.4.0->notebook>=7->nglview) (0.10.0)\n",
      "Requirement already satisfied: pandocfilters>=1.4.1 in /home/masterco20/apps/mamba/envs/venv/lib/python3.12/site-packages (from nbconvert>=6.4.4->jupyter-server<3,>=2.4.0->notebook>=7->nglview) (1.5.0)\n",
      "Requirement already satisfied: tinycss2 in /home/masterco20/apps/mamba/envs/venv/lib/python3.12/site-packages (from nbconvert>=6.4.4->jupyter-server<3,>=2.4.0->notebook>=7->nglview) (1.2.1)\n",
      "Requirement already satisfied: fastjsonschema>=2.15 in /home/masterco20/apps/mamba/envs/venv/lib/python3.12/site-packages (from nbformat>=5.3.0->jupyter-server<3,>=2.4.0->notebook>=7->nglview) (2.19.1)\n",
      "Requirement already satisfied: ptyprocess>=0.5 in /home/masterco20/apps/mamba/envs/venv/lib/python3.12/site-packages (from pexpect>4.3->ipython>=6.1.0->ipywidgets>=8->nglview) (0.7.0)\n",
      "Requirement already satisfied: wcwidth in /home/masterco20/apps/mamba/envs/venv/lib/python3.12/site-packages (from prompt-toolkit<3.1.0,>=3.0.41->ipython>=6.1.0->ipywidgets>=8->nglview) (0.2.13)\n",
      "Requirement already satisfied: charset-normalizer<4,>=2 in /home/masterco20/apps/mamba/envs/venv/lib/python3.12/site-packages (from requests>=2.31->jupyterlab-server<3,>=2.22.1->notebook>=7->nglview) (3.3.2)\n",
      "Requirement already satisfied: urllib3<3,>=1.21.1 in /home/masterco20/apps/mamba/envs/venv/lib/python3.12/site-packages (from requests>=2.31->jupyterlab-server<3,>=2.22.1->notebook>=7->nglview) (2.2.1)\n",
      "Requirement already satisfied: argon2-cffi-bindings in /home/masterco20/apps/mamba/envs/venv/lib/python3.12/site-packages (from argon2-cffi->jupyter-server<3,>=2.4.0->notebook>=7->nglview) (21.2.0)\n",
      "Requirement already satisfied: executing>=1.2.0 in /home/masterco20/apps/mamba/envs/venv/lib/python3.12/site-packages (from stack-data->ipython>=6.1.0->ipywidgets>=8->nglview) (2.0.1)\n",
      "Requirement already satisfied: asttokens>=2.1.0 in /home/masterco20/apps/mamba/envs/venv/lib/python3.12/site-packages (from stack-data->ipython>=6.1.0->ipywidgets>=8->nglview) (2.4.1)\n",
      "Requirement already satisfied: pure-eval in /home/masterco20/apps/mamba/envs/venv/lib/python3.12/site-packages (from stack-data->ipython>=6.1.0->ipywidgets>=8->nglview) (0.2.2)\n",
      "Requirement already satisfied: six>=1.12.0 in /home/masterco20/apps/mamba/envs/venv/lib/python3.12/site-packages (from asttokens>=2.1.0->stack-data->ipython>=6.1.0->ipywidgets>=8->nglview) (1.16.0)\n",
      "Requirement already satisfied: webencodings in /home/masterco20/apps/mamba/envs/venv/lib/python3.12/site-packages (from bleach!=5.0.0->nbconvert>=6.4.4->jupyter-server<3,>=2.4.0->notebook>=7->nglview) (0.5.1)\n",
      "Requirement already satisfied: fqdn in /home/masterco20/apps/mamba/envs/venv/lib/python3.12/site-packages (from jsonschema[format-nongpl]>=4.18.0->jupyter-events>=0.9.0->jupyter-server<3,>=2.4.0->notebook>=7->nglview) (1.5.1)\n",
      "Requirement already satisfied: isoduration in /home/masterco20/apps/mamba/envs/venv/lib/python3.12/site-packages (from jsonschema[format-nongpl]>=4.18.0->jupyter-events>=0.9.0->jupyter-server<3,>=2.4.0->notebook>=7->nglview) (20.11.0)\n",
      "Requirement already satisfied: jsonpointer>1.13 in /home/masterco20/apps/mamba/envs/venv/lib/python3.12/site-packages (from jsonschema[format-nongpl]>=4.18.0->jupyter-events>=0.9.0->jupyter-server<3,>=2.4.0->notebook>=7->nglview) (2.4)\n",
      "Requirement already satisfied: uri-template in /home/masterco20/apps/mamba/envs/venv/lib/python3.12/site-packages (from jsonschema[format-nongpl]>=4.18.0->jupyter-events>=0.9.0->jupyter-server<3,>=2.4.0->notebook>=7->nglview) (1.3.0)\n",
      "Requirement already satisfied: webcolors>=1.11 in /home/masterco20/apps/mamba/envs/venv/lib/python3.12/site-packages (from jsonschema[format-nongpl]>=4.18.0->jupyter-events>=0.9.0->jupyter-server<3,>=2.4.0->notebook>=7->nglview) (1.13)\n",
      "Requirement already satisfied: cffi>=1.0.1 in /home/masterco20/apps/mamba/envs/venv/lib/python3.12/site-packages (from argon2-cffi-bindings->argon2-cffi->jupyter-server<3,>=2.4.0->notebook>=7->nglview) (1.16.0)\n",
      "Requirement already satisfied: soupsieve>1.2 in /home/masterco20/apps/mamba/envs/venv/lib/python3.12/site-packages (from beautifulsoup4->nbconvert>=6.4.4->jupyter-server<3,>=2.4.0->notebook>=7->nglview) (2.5)\n",
      "Requirement already satisfied: pycparser in /home/masterco20/apps/mamba/envs/venv/lib/python3.12/site-packages (from cffi>=1.0.1->argon2-cffi-bindings->argon2-cffi->jupyter-server<3,>=2.4.0->notebook>=7->nglview) (2.22)\n",
      "Requirement already satisfied: arrow>=0.15.0 in /home/masterco20/apps/mamba/envs/venv/lib/python3.12/site-packages (from isoduration->jsonschema[format-nongpl]>=4.18.0->jupyter-events>=0.9.0->jupyter-server<3,>=2.4.0->notebook>=7->nglview) (1.3.0)\n",
      "Requirement already satisfied: types-python-dateutil>=2.8.10 in /home/masterco20/apps/mamba/envs/venv/lib/python3.12/site-packages (from arrow>=0.15.0->isoduration->jsonschema[format-nongpl]>=4.18.0->jupyter-events>=0.9.0->jupyter-server<3,>=2.4.0->notebook>=7->nglview) (2.9.0.20240316)\n",
      "Downloading numpy-1.26.4-cp312-cp312-manylinux_2_17_x86_64.manylinux2014_x86_64.whl (18.0 MB)\n",
      "\u001b[2K   \u001b[38;2;114;156;31m━━━━━━━━━━━━━━━━━━━━━━━━━━━━━━━━━━━━━━━━\u001b[0m \u001b[32m18.0/18.0 MB\u001b[0m \u001b[31m2.8 MB/s\u001b[0m eta \u001b[36m0:00:00\u001b[0mm eta \u001b[36m0:00:01\u001b[0m[36m0:00:01\u001b[0mm\n",
      "\u001b[?25hBuilding wheels for collected packages: nglview\n",
      "  Building wheel for nglview (pyproject.toml) ... \u001b[?25ldone\n",
      "\u001b[?25h  Created wheel for nglview: filename=nglview-3.1.2-py3-none-any.whl size=7493362 sha256=ebcd626d7314d09372865c6e4a5d3a1f68881cd348506face22f40b79e1027e4\n",
      "  Stored in directory: /home/masterco20/.cache/pip/wheels/c9/51/62/3686e2cbc3ebf0621c7e1c9631f6d44eae5fc758d82970e06f\n",
      "Successfully built nglview\n",
      "Installing collected packages: numpy, nglview\n",
      "Successfully installed nglview-3.1.2 numpy-1.26.4\n"
     ]
    }
   ],
   "source": [
    "!pip install nglview"
   ]
  },
  {
   "cell_type": "code",
   "execution_count": 6,
   "id": "73372726-9bbd-4c24-ab90-14e5c3b8d10c",
   "metadata": {
    "scrolled": true
   },
   "outputs": [
    {
     "name": "stdout",
     "output_type": "stream",
     "text": [
      "Collecting matplotlib\n",
      "  Downloading matplotlib-3.8.4-cp312-cp312-manylinux_2_17_x86_64.manylinux2014_x86_64.whl.metadata (5.8 kB)\n",
      "Collecting contourpy>=1.0.1 (from matplotlib)\n",
      "  Downloading contourpy-1.2.1-cp312-cp312-manylinux_2_17_x86_64.manylinux2014_x86_64.whl.metadata (5.8 kB)\n",
      "Collecting cycler>=0.10 (from matplotlib)\n",
      "  Downloading cycler-0.12.1-py3-none-any.whl.metadata (3.8 kB)\n",
      "Collecting fonttools>=4.22.0 (from matplotlib)\n",
      "  Downloading fonttools-4.51.0-cp312-cp312-manylinux_2_5_x86_64.manylinux1_x86_64.manylinux_2_17_x86_64.manylinux2014_x86_64.whl.metadata (159 kB)\n",
      "\u001b[2K     \u001b[38;2;114;156;31m━━━━━━━━━━━━━━━━━━━━━━━━━━━━━━━━━━━━━━━\u001b[0m \u001b[32m159.5/159.5 kB\u001b[0m \u001b[31m1.3 MB/s\u001b[0m eta \u001b[36m0:00:00\u001b[0m[31m1.2 MB/s\u001b[0m eta \u001b[36m0:00:01\u001b[0m\n",
      "\u001b[?25hCollecting kiwisolver>=1.3.1 (from matplotlib)\n",
      "  Downloading kiwisolver-1.4.5-cp312-cp312-manylinux_2_17_x86_64.manylinux2014_x86_64.whl.metadata (6.4 kB)\n",
      "Requirement already satisfied: numpy>=1.21 in /home/masterco20/apps/mamba/envs/venv/lib/python3.12/site-packages (from matplotlib) (1.26.4)\n",
      "Requirement already satisfied: packaging>=20.0 in /home/masterco20/apps/mamba/envs/venv/lib/python3.12/site-packages (from matplotlib) (24.0)\n",
      "Collecting pillow>=8 (from matplotlib)\n",
      "  Downloading pillow-10.3.0-cp312-cp312-manylinux_2_28_x86_64.whl.metadata (9.2 kB)\n",
      "Collecting pyparsing>=2.3.1 (from matplotlib)\n",
      "  Downloading pyparsing-3.1.2-py3-none-any.whl.metadata (5.1 kB)\n",
      "Requirement already satisfied: python-dateutil>=2.7 in /home/masterco20/apps/mamba/envs/venv/lib/python3.12/site-packages (from matplotlib) (2.9.0)\n",
      "Requirement already satisfied: six>=1.5 in /home/masterco20/apps/mamba/envs/venv/lib/python3.12/site-packages (from python-dateutil>=2.7->matplotlib) (1.16.0)\n",
      "Downloading matplotlib-3.8.4-cp312-cp312-manylinux_2_17_x86_64.manylinux2014_x86_64.whl (11.6 MB)\n",
      "\u001b[2K   \u001b[38;2;114;156;31m━━━━━━━━━━━━━━━━━━━━━━━━━━━━━━━━━━━━━━━━\u001b[0m \u001b[32m11.6/11.6 MB\u001b[0m \u001b[31m3.7 MB/s\u001b[0m eta \u001b[36m0:00:00\u001b[0mm eta \u001b[36m0:00:01\u001b[0m[36m0:00:01\u001b[0m\n",
      "\u001b[?25hDownloading contourpy-1.2.1-cp312-cp312-manylinux_2_17_x86_64.manylinux2014_x86_64.whl (309 kB)\n",
      "\u001b[2K   \u001b[38;2;114;156;31m━━━━━━━━━━━━━━━━━━━━━━━━━━━━━━━━━━━━━━━━\u001b[0m \u001b[32m309.2/309.2 kB\u001b[0m \u001b[31m3.5 MB/s\u001b[0m eta \u001b[36m0:00:00\u001b[0m[31m3.9 MB/s\u001b[0m eta \u001b[36m0:00:01\u001b[0m\n",
      "\u001b[?25hDownloading cycler-0.12.1-py3-none-any.whl (8.3 kB)\n",
      "Downloading fonttools-4.51.0-cp312-cp312-manylinux_2_5_x86_64.manylinux1_x86_64.manylinux_2_17_x86_64.manylinux2014_x86_64.whl (4.9 MB)\n",
      "\u001b[2K   \u001b[38;2;114;156;31m━━━━━━━━━━━━━━━━━━━━━━━━━━━━━━━━━━━━━━━━\u001b[0m \u001b[32m4.9/4.9 MB\u001b[0m \u001b[31m3.4 MB/s\u001b[0m eta \u001b[36m0:00:00\u001b[0mm eta \u001b[36m0:00:01\u001b[0m0:01\u001b[0m:01\u001b[0m\n",
      "\u001b[?25hDownloading kiwisolver-1.4.5-cp312-cp312-manylinux_2_17_x86_64.manylinux2014_x86_64.whl (1.5 MB)\n",
      "\u001b[2K   \u001b[38;2;114;156;31m━━━━━━━━━━━━━━━━━━━━━━━━━━━━━━━━━━━━━━━━\u001b[0m \u001b[32m1.5/1.5 MB\u001b[0m \u001b[31m3.4 MB/s\u001b[0m eta \u001b[36m0:00:00\u001b[0mm eta \u001b[36m0:00:01\u001b[0m0:01\u001b[0m:01\u001b[0m\n",
      "\u001b[?25hDownloading pillow-10.3.0-cp312-cp312-manylinux_2_28_x86_64.whl (4.5 MB)\n",
      "\u001b[2K   \u001b[38;2;114;156;31m━━━━━━━━━━━━━━━━━━━━━━━━━━━━━━━━━━━━━━━━\u001b[0m \u001b[32m4.5/4.5 MB\u001b[0m \u001b[31m3.5 MB/s\u001b[0m eta \u001b[36m0:00:00\u001b[0mm eta \u001b[36m0:00:01\u001b[0m[36m0:00:01\u001b[0m\n",
      "\u001b[?25hDownloading pyparsing-3.1.2-py3-none-any.whl (103 kB)\n",
      "\u001b[2K   \u001b[38;2;114;156;31m━━━━━━━━━━━━━━━━━━━━━━━━━━━━━━━━━━━━━━━━\u001b[0m \u001b[32m103.2/103.2 kB\u001b[0m \u001b[31m3.2 MB/s\u001b[0m eta \u001b[36m0:00:00\u001b[0m\n",
      "\u001b[?25hInstalling collected packages: pyparsing, pillow, kiwisolver, fonttools, cycler, contourpy, matplotlib\n",
      "Successfully installed contourpy-1.2.1 cycler-0.12.1 fonttools-4.51.0 kiwisolver-1.4.5 matplotlib-3.8.4 pillow-10.3.0 pyparsing-3.1.2\n"
     ]
    }
   ],
   "source": [
    "! pip install matplotlib"
   ]
  },
  {
   "cell_type": "code",
   "execution_count": 7,
   "id": "93b1fbee-9de1-47d2-93c9-b9c1fc9145fa",
   "metadata": {
    "scrolled": true
   },
   "outputs": [
    {
     "name": "stdout",
     "output_type": "stream",
     "text": [
      "Collecting pandas\n",
      "  Downloading pandas-2.2.2-cp312-cp312-manylinux_2_17_x86_64.manylinux2014_x86_64.whl.metadata (19 kB)\n",
      "Requirement already satisfied: numpy>=1.26.0 in /home/masterco20/apps/mamba/envs/venv/lib/python3.12/site-packages (from pandas) (1.26.4)\n",
      "Requirement already satisfied: python-dateutil>=2.8.2 in /home/masterco20/apps/mamba/envs/venv/lib/python3.12/site-packages (from pandas) (2.9.0)\n",
      "Requirement already satisfied: pytz>=2020.1 in /home/masterco20/apps/mamba/envs/venv/lib/python3.12/site-packages (from pandas) (2024.1)\n",
      "Collecting tzdata>=2022.7 (from pandas)\n",
      "  Downloading tzdata-2024.1-py2.py3-none-any.whl.metadata (1.4 kB)\n",
      "Requirement already satisfied: six>=1.5 in /home/masterco20/apps/mamba/envs/venv/lib/python3.12/site-packages (from python-dateutil>=2.8.2->pandas) (1.16.0)\n",
      "Downloading pandas-2.2.2-cp312-cp312-manylinux_2_17_x86_64.manylinux2014_x86_64.whl (12.7 MB)\n",
      "\u001b[2K   \u001b[38;2;114;156;31m━━━━━━━━━━━━━━━━━━━━━━━━━━━━━━━━━━━━━━━━\u001b[0m \u001b[32m12.7/12.7 MB\u001b[0m \u001b[31m3.3 MB/s\u001b[0m eta \u001b[36m0:00:00\u001b[0mm eta \u001b[36m0:00:01\u001b[0m[36m0:00:01\u001b[0m\n",
      "\u001b[?25hDownloading tzdata-2024.1-py2.py3-none-any.whl (345 kB)\n",
      "\u001b[2K   \u001b[38;2;114;156;31m━━━━━━━━━━━━━━━━━━━━━━━━━━━━━━━━━━━━━━━━\u001b[0m \u001b[32m345.4/345.4 kB\u001b[0m \u001b[31m3.4 MB/s\u001b[0m eta \u001b[36m0:00:00\u001b[0m MB/s\u001b[0m eta \u001b[36m0:00:01\u001b[0m:01\u001b[0m\n",
      "\u001b[?25hInstalling collected packages: tzdata, pandas\n",
      "Successfully installed pandas-2.2.2 tzdata-2024.1\n"
     ]
    }
   ],
   "source": [
    "!pip install pandas"
   ]
  },
  {
   "cell_type": "code",
   "execution_count": 8,
   "id": "1fd0e6c2-660b-4bd1-aed0-4d0cee68c372",
   "metadata": {},
   "outputs": [
    {
     "name": "stdout",
     "output_type": "stream",
     "text": [
      "Requirement already satisfied: numpy in /home/masterco20/apps/mamba/envs/venv/lib/python3.12/site-packages (1.26.4)\n"
     ]
    }
   ],
   "source": [
    "!pip install numpy"
   ]
  },
  {
   "cell_type": "code",
   "execution_count": 2,
   "id": "91e3f6d7-8759-4c0e-b39a-32fb6fce0fcc",
   "metadata": {},
   "outputs": [
    {
     "name": "stdout",
     "output_type": "stream",
     "text": [
      "Collecting colorama\n",
      "  Downloading colorama-0.4.6-py2.py3-none-any.whl.metadata (17 kB)\n",
      "Downloading colorama-0.4.6-py2.py3-none-any.whl (25 kB)\n",
      "Installing collected packages: colorama\n",
      "Successfully installed colorama-0.4.6\n"
     ]
    }
   ],
   "source": [
    "!pip install colorama\n"
   ]
  },
  {
   "cell_type": "code",
   "execution_count": 10,
   "id": "ade2c03a-c2e2-4db2-b1dc-340026ed5e18",
   "metadata": {},
   "outputs": [
    {
     "name": "stdout",
     "output_type": "stream",
     "text": [
      "Collecting seaborn\n",
      "  Downloading seaborn-0.13.2-py3-none-any.whl.metadata (5.4 kB)\n",
      "Requirement already satisfied: numpy!=1.24.0,>=1.20 in /home/masterco20/apps/mamba/envs/venv/lib/python3.12/site-packages (from seaborn) (1.26.4)\n",
      "Requirement already satisfied: pandas>=1.2 in /home/masterco20/apps/mamba/envs/venv/lib/python3.12/site-packages (from seaborn) (2.2.2)\n",
      "Requirement already satisfied: matplotlib!=3.6.1,>=3.4 in /home/masterco20/apps/mamba/envs/venv/lib/python3.12/site-packages (from seaborn) (3.8.4)\n",
      "Requirement already satisfied: contourpy>=1.0.1 in /home/masterco20/apps/mamba/envs/venv/lib/python3.12/site-packages (from matplotlib!=3.6.1,>=3.4->seaborn) (1.2.1)\n",
      "Requirement already satisfied: cycler>=0.10 in /home/masterco20/apps/mamba/envs/venv/lib/python3.12/site-packages (from matplotlib!=3.6.1,>=3.4->seaborn) (0.12.1)\n",
      "Requirement already satisfied: fonttools>=4.22.0 in /home/masterco20/apps/mamba/envs/venv/lib/python3.12/site-packages (from matplotlib!=3.6.1,>=3.4->seaborn) (4.51.0)\n",
      "Requirement already satisfied: kiwisolver>=1.3.1 in /home/masterco20/apps/mamba/envs/venv/lib/python3.12/site-packages (from matplotlib!=3.6.1,>=3.4->seaborn) (1.4.5)\n",
      "Requirement already satisfied: packaging>=20.0 in /home/masterco20/apps/mamba/envs/venv/lib/python3.12/site-packages (from matplotlib!=3.6.1,>=3.4->seaborn) (24.0)\n",
      "Requirement already satisfied: pillow>=8 in /home/masterco20/apps/mamba/envs/venv/lib/python3.12/site-packages (from matplotlib!=3.6.1,>=3.4->seaborn) (10.3.0)\n",
      "Requirement already satisfied: pyparsing>=2.3.1 in /home/masterco20/apps/mamba/envs/venv/lib/python3.12/site-packages (from matplotlib!=3.6.1,>=3.4->seaborn) (3.1.2)\n",
      "Requirement already satisfied: python-dateutil>=2.7 in /home/masterco20/apps/mamba/envs/venv/lib/python3.12/site-packages (from matplotlib!=3.6.1,>=3.4->seaborn) (2.9.0)\n",
      "Requirement already satisfied: pytz>=2020.1 in /home/masterco20/apps/mamba/envs/venv/lib/python3.12/site-packages (from pandas>=1.2->seaborn) (2024.1)\n",
      "Requirement already satisfied: tzdata>=2022.7 in /home/masterco20/apps/mamba/envs/venv/lib/python3.12/site-packages (from pandas>=1.2->seaborn) (2024.1)\n",
      "Requirement already satisfied: six>=1.5 in /home/masterco20/apps/mamba/envs/venv/lib/python3.12/site-packages (from python-dateutil>=2.7->matplotlib!=3.6.1,>=3.4->seaborn) (1.16.0)\n",
      "Downloading seaborn-0.13.2-py3-none-any.whl (294 kB)\n",
      "\u001b[2K   \u001b[38;2;114;156;31m━━━━━━━━━━━━━━━━━━━━━━━━━━━━━━━━━━━━━━━━\u001b[0m \u001b[32m294.9/294.9 kB\u001b[0m \u001b[31m1.7 MB/s\u001b[0m eta \u001b[36m0:00:00\u001b[0m[31m1.7 MB/s\u001b[0m eta \u001b[36m0:00:01\u001b[0m\n",
      "\u001b[?25hInstalling collected packages: seaborn\n",
      "Successfully installed seaborn-0.13.2\n"
     ]
    }
   ],
   "source": [
    "! pip install seaborn"
   ]
  },
  {
   "cell_type": "code",
   "execution_count": 3,
   "id": "72162811-776e-4990-b871-fb0683964f26",
   "metadata": {},
   "outputs": [
    {
     "name": "stdout",
     "output_type": "stream",
     "text": [
      "Collecting biopython\n",
      "  Downloading biopython-1.83-cp312-cp312-manylinux_2_17_x86_64.manylinux2014_x86_64.whl.metadata (13 kB)\n",
      "Requirement already satisfied: numpy in /home/masterco20/apps/mamba/envs/venv/lib/python3.12/site-packages (from biopython) (1.26.4)\n",
      "Downloading biopython-1.83-cp312-cp312-manylinux_2_17_x86_64.manylinux2014_x86_64.whl (3.1 MB)\n",
      "\u001b[2K   \u001b[38;2;114;156;31m━━━━━━━━━━━━━━━━━━━━━━━━━━━━━━━━━━━━━━━━\u001b[0m \u001b[32m3.1/3.1 MB\u001b[0m \u001b[31m3.1 MB/s\u001b[0m eta \u001b[36m0:00:00\u001b[0mm eta \u001b[36m0:00:01\u001b[0m0:01\u001b[0m:01\u001b[0m\n",
      "\u001b[?25hInstalling collected packages: biopython\n",
      "Successfully installed biopython-1.83\n"
     ]
    }
   ],
   "source": [
    "!pip install biopython\n"
   ]
  },
  {
   "cell_type": "code",
   "execution_count": 11,
   "id": "b97fc970-30b5-4bf4-a108-95074d52f2c8",
   "metadata": {},
   "outputs": [],
   "source": [
    "import Bio\n",
    "from Bio import Entrez\n",
    "from Bio.Seq import Seq\n",
    "from Bio.SeqRecord import SeqRecord\n",
    "from Bio import SeqIO\n",
    "from Bio import AlignIO\n",
    "from Bio.pairwise2 import format_alignment\n",
    "from Bio.Align import MultipleSeqAlignment\n",
    "from Bio.Blast import NCBIWWW\n",
    "from Bio.SeqUtils.ProtParam import ProteinAnalysis\n",
    "from Bio.Data import CodonTable\n",
    "import nglview as nv\n",
    "import matplotlib.pyplot as plt\n",
    "%matplotlib inline\n",
    "from colorama import Back, Style, Fore\n",
    "import seaborn as sns\n",
    "import pandas as pd"
   ]
  },
  {
   "cell_type": "code",
   "execution_count": 12,
   "id": "d456067b-1d1b-4c7f-b4f2-21272c8da0f8",
   "metadata": {},
   "outputs": [
    {
     "name": "stdout",
     "output_type": "stream",
     "text": [
      "Genome sequence saved to bacteria_genome.fasta\n"
     ]
    }
   ],
   "source": [
    "# Provide your email address for Entrez\n",
    "Entrez.email = \"your.email@example.com\"\n",
    "\n",
    "# Define the accession number of the genome you want to retrieve\n",
    "genome_accession = \"NC_000913.3\"\n",
    "\n",
    "# Fetch the genome record from NCBI\n",
    "handle = Entrez.efetch(db=\"nuccore\", id=genome_accession, rettype=\"fasta\", retmode=\"text\")\n",
    "\n",
    "# Parse the FASTA record\n",
    "genome_record = SeqIO.read(handle, \"fasta\")\n",
    "\n",
    "# Save the genome sequence to a file\n",
    "output_file = \"bacteria_genome.fasta\"\n",
    "SeqIO.write(genome_record, output_file, \"fasta\")\n",
    "\n",
    "print(f\"Genome sequence saved to {output_file}\")"
   ]
  },
  {
   "cell_type": "code",
   "execution_count": 15,
   "id": "f2769e5b-1853-441d-92be-40b0bae8e808",
   "metadata": {},
   "outputs": [
    {
     "data": {
      "text/plain": [
       "SeqRecord(seq=Seq('AGCTTTTCATTCTGACTGCAACGGGCAATATGTCTCTGTGTGGATTAAAAAAAG...TTC'), id='NC_000913.3', name='NC_000913.3', description='NC_000913.3 Escherichia coli str. K-12 substr. MG1655, complete genome', dbxrefs=[])"
      ]
     },
     "execution_count": 15,
     "metadata": {},
     "output_type": "execute_result"
    }
   ],
   "source": [
    "genome_record"
   ]
  },
  {
   "cell_type": "code",
   "execution_count": 16,
   "id": "ee98d2b4-f91c-4729-93d5-399ee3d4dd72",
   "metadata": {},
   "outputs": [],
   "source": [
    "sequence = genome_record.seq\n"
   ]
  },
  {
   "cell_type": "code",
   "execution_count": 17,
   "id": "01d9d36f-4585-4395-a1b7-83cfe7856a48",
   "metadata": {},
   "outputs": [
    {
     "data": {
      "text/plain": [
       "Seq('AGCTTTTCATTCTGACTGCAACGGGCAATATGTCTCTGTGTGGATTAAAAAAAG...TTC')"
      ]
     },
     "execution_count": 17,
     "metadata": {},
     "output_type": "execute_result"
    }
   ],
   "source": [
    "sequence"
   ]
  },
  {
   "cell_type": "code",
   "execution_count": 18,
   "id": "c29eda85-b704-4e53-83e0-3b655c03be7f",
   "metadata": {},
   "outputs": [],
   "source": [
    "description = genome_record.description"
   ]
  },
  {
   "cell_type": "code",
   "execution_count": 19,
   "id": "972247c0-b546-4e8d-a5fd-e807b7328072",
   "metadata": {},
   "outputs": [
    {
     "data": {
      "text/plain": [
       "'NC_000913.3 Escherichia coli str. K-12 substr. MG1655, complete genome'"
      ]
     },
     "execution_count": 19,
     "metadata": {},
     "output_type": "execute_result"
    }
   ],
   "source": [
    "description"
   ]
  },
  {
   "cell_type": "code",
   "execution_count": 31,
   "id": "dbe8a286-c2f5-47f2-a4ef-ad10fafd93e5",
   "metadata": {},
   "outputs": [],
   "source": [
    "def ten_nucleotide_seq(genome):\n",
    "    genes = []\n",
    "    for ix, char in enumerate(genome):\n",
    "        if ix != 0 and ix%10 == 0:\n",
    "            genes.append(' ')\n",
    "        genes.append(char)\n",
    "    return ''.join(genes)\n",
    "\n",
    "# color code to represent genome sequences\n",
    "nu_clr_switcher = {\n",
    "    # standard color-codes\n",
    "    'A': Back.GREEN,\n",
    "    'C': Back.YELLOW,\n",
    "    'G': Back.RED,\n",
    "    'T': Back.BLUE,\n",
    "    ' ': Style.RESET_ALL\n",
    "}\n",
    "protein_clr_switcher = {\n",
    "    # color-code by proteinfamily's polarity\n",
    "    'A': Back.BLUE,\n",
    "    'V': Back.BLUE,\n",
    "    'I': Back.BLUE,\n",
    "    'L': Back.BLUE,\n",
    "    'M': Back.BLUE,\n",
    "    'F': Back.BLUE,\n",
    "    'Y': Back.CYAN,\n",
    "    'W': Back.BLUE,\n",
    "    'H': Back.CYAN,\n",
    "    'R': Back.RED,\n",
    "    'K': Back.RED,\n",
    "    'N': Back.GREEN,\n",
    "    'Q': Back.GREEN,\n",
    "    'E': Back.MAGENTA,\n",
    "    'D': Back.MAGENTA,\n",
    "    'S': Back.GREEN,\n",
    "    'T': Back.GREEN,\n",
    "    'G': Back.YELLOW,\n",
    "    'P': Back.YELLOW,\n",
    "    'C': Back.BLUE,\n",
    "    ' ': Style.RESET_ALL\n",
    "}\n",
    "def seq_repr(genome_str, strand ='dna'):\n",
    "    if strand == 'dna':\n",
    "        genome_str = ten_nucleotide_seq(genome=genome_str)\n",
    "        line_break_cntr = 0\n",
    "        for i in range(len(genome_str)):\n",
    "            if genome_str[i] == ' ':\n",
    "                line_break_cntr += 1\n",
    "                if line_break_cntr>0 and line_break_cntr%6==0:\n",
    "                    text = \"\\n\"\n",
    "                else:\n",
    "                    text = nu_clr_switcher[genome_str[i]] + genome_str[i]\n",
    "            else:\n",
    "                text = nu_clr_switcher[genome_str[i]] + genome_str[i]\n",
    "            print(text, end=\"\")\n",
    "        Style.RESET_ALL\n",
    "    if strand == 'protein':\n",
    "        for i in range(len(genome_str)):\n",
    "            if genome_str[i] in protein_clr_switcher:\n",
    "                if genome_str[i] == 'S' and genome_str[i+1:i+4] == 'TOP':\n",
    "                    text = Style.RESET_ALL + 'S'\n",
    "                elif genome_str[i] == 'T' and genome_str[i-1] == 'S' and genome_str[i+1:i+3] == 'OP':\n",
    "                    text = Style.RESET_ALL + 'T'\n",
    "                elif genome_str[i] == 'P' and genome_str[i-3:i] == 'STO':\n",
    "                    text = Style.RESET_ALL + 'P'\n",
    "                else:\n",
    "                    text = protein_clr_switcher[genome_str[i]] + genome_str[i]\n",
    "            else:\n",
    "                Style.RESET_ALL\n",
    "                text = genome_str[i]\n",
    "            print(text, end=\"\")"
   ]
  },
  {
   "cell_type": "code",
   "execution_count": 32,
   "id": "dae45309-4167-47a2-8027-e15b33d33f6b",
   "metadata": {},
   "outputs": [
    {
     "name": "stdout",
     "output_type": "stream",
     "text": [
      "\u001b[42mA\u001b[41mG\u001b[43mC\u001b[44mT\u001b[44mT\u001b[44mT\u001b[44mT\u001b[43mC\u001b[42mA\u001b[44mT\u001b[0m \u001b[44mT\u001b[43mC\u001b[44mT\u001b[41mG\u001b[42mA\u001b[43mC\u001b[44mT\u001b[41mG\u001b[43mC\u001b[42mA\u001b[0m \u001b[42mA\u001b[43mC\u001b[41mG\u001b[41mG\u001b[41mG\u001b[43mC\u001b[42mA\u001b[42mA\u001b[44mT\u001b[42mA\u001b[0m \u001b[44mT\u001b[41mG\u001b[44mT\u001b[43mC\u001b[44mT\u001b[43mC\u001b[44mT\u001b[41mG\u001b[44mT\u001b[41mG\u001b[0m \u001b[44mT\u001b[41mG\u001b[41mG\u001b[42mA\u001b[44mT\u001b[44mT\u001b[42mA\u001b[42mA\u001b[42mA\u001b[42mA\u001b[0m \u001b[42mA\u001b[42mA\u001b[42mA\u001b[41mG\u001b[42mA\u001b[41mG\u001b[44mT\u001b[41mG\u001b[44mT\u001b[43mC\n",
      "\u001b[44mT\u001b[41mG\u001b[42mA\u001b[44mT\u001b[42mA\u001b[41mG\u001b[43mC\u001b[42mA\u001b[41mG\u001b[43mC\u001b[0m \u001b[44mT\u001b[44mT\u001b[43mC\u001b[44mT\u001b[41mG\u001b[42mA\u001b[42mA\u001b[43mC\u001b[44mT\u001b[41mG\u001b[0m \u001b[41mG\u001b[44mT\u001b[44mT\u001b[42mA\u001b[43mC\u001b[43mC\u001b[44mT\u001b[41mG\u001b[43mC\u001b[43mC\u001b[0m \u001b[41mG\u001b[44mT\u001b[41mG\u001b[42mA\u001b[41mG\u001b[44mT\u001b[42mA\u001b[42mA\u001b[42mA\u001b[44mT\u001b[0m \u001b[44mT\u001b[42mA\u001b[42mA\u001b[42mA\u001b[42mA\u001b[44mT\u001b[44mT\u001b[44mT\u001b[44mT\u001b[42mA\u001b[0m \u001b[44mT\u001b[44mT\u001b[41mG\u001b[42mA\u001b[43mC\u001b[44mT\u001b[44mT\u001b[42mA\u001b[41mG\u001b[41mG\n",
      "\u001b[44mT\u001b[43mC\u001b[42mA\u001b[43mC\u001b[44mT\u001b[42mA\u001b[42mA\u001b[42mA\u001b[44mT\u001b[42mA\u001b[0m \u001b[43mC\u001b[44mT\u001b[44mT\u001b[44mT\u001b[42mA\u001b[42mA\u001b[43mC\u001b[43mC\u001b[42mA\u001b[42mA\u001b[0m \u001b[44mT\u001b[42mA\u001b[44mT\u001b[42mA\u001b[41mG\u001b[41mG\u001b[43mC\u001b[42mA\u001b[44mT\u001b[42mA\u001b[0m \u001b[41mG\u001b[43mC\u001b[41mG\u001b[43mC\u001b[42mA\u001b[43mC\u001b[42mA\u001b[41mG\u001b[42mA\u001b[43mC\u001b[0m \u001b[42mA\u001b[41mG\u001b[42mA\u001b[44mT\u001b[42mA\u001b[42mA\u001b[42mA\u001b[42mA\u001b[42mA\u001b[44mT\u001b[0m \u001b[44mT\u001b[42mA\u001b[43mC\u001b[42mA\u001b[41mG\u001b[42mA\u001b[41mG\u001b[44mT\u001b[42mA\u001b[43mC\n",
      "\u001b[42mA\u001b[43mC\u001b[42mA\u001b[42mA\u001b[43mC\u001b[42mA\u001b[44mT\u001b[43mC\u001b[43mC\u001b[42mA\u001b[0m \u001b[44mT\u001b[41mG\u001b[42mA\u001b[42mA\u001b[42mA\u001b[43mC\u001b[41mG\u001b[43mC\u001b[42mA\u001b[44mT\u001b[0m \u001b[44mT\u001b[42mA\u001b[41mG\u001b[43mC\u001b[42mA\u001b[43mC\u001b[43mC\u001b[42mA\u001b[43mC\u001b[43mC\u001b[0m \u001b[42mA\u001b[44mT\u001b[44mT\u001b[42mA\u001b[43mC\u001b[43mC\u001b[42mA\u001b[43mC\u001b[43mC\u001b[42mA\u001b[0m \u001b[43mC\u001b[43mC\u001b[42mA\u001b[44mT\u001b[43mC\u001b[42mA\u001b[43mC\u001b[43mC\u001b[42mA\u001b[44mT\u001b[0m \u001b[44mT\u001b[42mA\u001b[43mC\u001b[43mC\u001b[42mA\u001b[43mC\u001b[42mA\u001b[41mG\u001b[41mG\u001b[44mT\n",
      "\u001b[42mA\u001b[42mA\u001b[43mC\u001b[41mG\u001b[41mG\u001b[44mT\u001b[41mG\u001b[43mC\u001b[41mG\u001b[41mG\u001b[0m \u001b[41mG\u001b[43mC\u001b[44mT\u001b[41mG\u001b[42mA\u001b[43mC\u001b[41mG\u001b[43mC\u001b[41mG\u001b[44mT\u001b[0m \u001b[42mA\u001b[43mC\u001b[42mA\u001b[41mG\u001b[41mG\u001b[42mA\u001b[42mA\u001b[42mA\u001b[43mC\u001b[42mA\u001b[0m \u001b[43mC\u001b[42mA\u001b[41mG\u001b[42mA\u001b[42mA\u001b[42mA\u001b[42mA\u001b[42mA\u001b[42mA\u001b[41mG\u001b[0m \u001b[43mC\u001b[43mC\u001b[43mC\u001b[41mG\u001b[43mC\u001b[42mA\u001b[43mC\u001b[43mC\u001b[44mT\u001b[41mG\u001b[0m \u001b[42mA\u001b[43mC\u001b[42mA\u001b[41mG\u001b[44mT\u001b[41mG\u001b[43mC\u001b[41mG\u001b[41mG\u001b[41mG\n",
      "\u001b[43mC\u001b[44mT\u001b[44mT\u001b[44mT\u001b[44mT\u001b[44mT\u001b[44mT\u001b[44mT\u001b[44mT\u001b[44mT\u001b[0m \u001b[43mC\u001b[41mG\u001b[42mA\u001b[43mC\u001b[43mC\u001b[42mA\u001b[42mA\u001b[42mA\u001b[41mG\u001b[41mG\u001b[0m \u001b[44mT\u001b[42mA\u001b[42mA\u001b[43mC\u001b[41mG\u001b[42mA\u001b[41mG\u001b[41mG\u001b[44mT\u001b[42mA\u001b[0m \u001b[42mA\u001b[43mC\u001b[42mA\u001b[42mA\u001b[43mC\u001b[43mC\u001b[42mA\u001b[44mT\u001b[41mG\u001b[43mC\u001b[0m \u001b[41mG\u001b[42mA\u001b[41mG\u001b[44mT\u001b[41mG\u001b[44mT\u001b[44mT\u001b[41mG\u001b[42mA\u001b[42mA\u001b[0m \u001b[41mG\u001b[44mT\u001b[44mT\u001b[43mC\u001b[41mG\u001b[41mG\u001b[43mC\u001b[41mG\u001b[41mG\u001b[44mT\n",
      "\u001b[42mA\u001b[43mC\u001b[42mA\u001b[44mT\u001b[43mC\u001b[42mA\u001b[41mG\u001b[44mT\u001b[41mG\u001b[41mG\u001b[0m \u001b[43mC\u001b[42mA\u001b[42mA\u001b[42mA\u001b[44mT\u001b[41mG\u001b[43mC\u001b[42mA\u001b[41mG\u001b[42mA\u001b[0m \u001b[42mA\u001b[43mC\u001b[41mG\u001b[44mT\u001b[44mT\u001b[44mT\u001b[44mT\u001b[43mC\u001b[44mT\u001b[41mG\u001b[0m \u001b[43mC\u001b[41mG\u001b[44mT\u001b[41mG\u001b[44mT\u001b[44mT\u001b[41mG\u001b[43mC\u001b[43mC\u001b[41mG\u001b[0m \u001b[42mA\u001b[44mT\u001b[42mA\u001b[44mT\u001b[44mT\u001b[43mC\u001b[44mT\u001b[41mG\u001b[41mG\u001b[42mA\u001b[0m \u001b[42mA\u001b[42mA\u001b[41mG\u001b[43mC\u001b[42mA\u001b[42mA\u001b[44mT\u001b[41mG\u001b[43mC\u001b[43mC\n",
      "\u001b[42mA\u001b[41mG\u001b[41mG\u001b[43mC\u001b[42mA\u001b[41mG\u001b[41mG\u001b[41mG\u001b[41mG\u001b[43mC\u001b[0m \u001b[42mA\u001b[41mG\u001b[41mG\u001b[44mT\u001b[41mG\u001b[41mG\u001b[43mC\u001b[43mC\u001b[42mA\u001b[43mC\u001b[0m \u001b[43mC\u001b[41mG\u001b[44mT\u001b[43mC\u001b[43mC\u001b[44mT\u001b[43mC\u001b[44mT\u001b[43mC\u001b[44mT\u001b[0m \u001b[41mG\u001b[43mC\u001b[43mC\u001b[43mC\u001b[43mC\u001b[43mC\u001b[41mG\u001b[43mC\u001b[43mC\u001b[42mA\u001b[0m \u001b[42mA\u001b[42mA\u001b[42mA\u001b[44mT\u001b[43mC\u001b[42mA\u001b[43mC\u001b[43mC\u001b[42mA\u001b[42mA\u001b[0m \u001b[43mC\u001b[43mC\u001b[42mA\u001b[43mC\u001b[43mC\u001b[44mT\u001b[41mG\u001b[41mG\u001b[44mT\u001b[41mG\n",
      "\u001b[41mG\u001b[43mC\u001b[41mG\u001b[42mA\u001b[44mT\u001b[41mG\u001b[42mA\u001b[44mT\u001b[44mT\u001b[41mG\u001b[0m \u001b[42mA\u001b[42mA\u001b[42mA\u001b[42mA\u001b[42mA\u001b[42mA\u001b[43mC\u001b[43mC\u001b[42mA\u001b[44mT"
     ]
    }
   ],
   "source": [
    "seq_repr(sequence[0:500])"
   ]
  },
  {
   "cell_type": "code",
   "execution_count": null,
   "id": "70cecd81-1618-4657-9bb0-1aa5c521fc22",
   "metadata": {},
   "outputs": [],
   "source": []
  }
 ],
 "metadata": {
  "kernelspec": {
   "display_name": "Python 3 (ipykernel)",
   "language": "python",
   "name": "python3"
  },
  "language_info": {
   "codemirror_mode": {
    "name": "ipython",
    "version": 3
   },
   "file_extension": ".py",
   "mimetype": "text/x-python",
   "name": "python",
   "nbconvert_exporter": "python",
   "pygments_lexer": "ipython3",
   "version": "3.12.2"
  }
 },
 "nbformat": 4,
 "nbformat_minor": 5
}
